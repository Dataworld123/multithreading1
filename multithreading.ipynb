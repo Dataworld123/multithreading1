{
 "cells": [
  {
   "cell_type": "code",
   "execution_count": null,
   "id": "8204726d-8bd3-445a-824c-40d41751b850",
   "metadata": {},
   "outputs": [],
   "source": [
    "Q1.what is multithreading in python? why is it used? Name the module used to handle threads in python."
   ]
  },
  {
   "cell_type": "code",
   "execution_count": null,
   "id": "f000314d-02eb-42b5-b322-b8df08398fa2",
   "metadata": {},
   "outputs": [],
   "source": [
    "Multithreading in Python is a technique of creating multiple threads of execution within a single process. \n",
    "A thread is a lightweight unit of execution, which allows a program to perform multiple tasks concurrently. \n",
    "In multithreading, multiple threads are executed simultaneously, and they share the same memory space.\n",
    "\n",
    "Multithreading is used in Python for many reasons, including:\n",
    "\n",
    "To improve the performance of a program by allowing it to perform multiple tasks concurrently.\n",
    "\n",
    "To make the program more responsive by allowing it to continue executing other tasks while waiting for a resource to become available.\n",
    "\n",
    "To simplify the programming model, allowing the programmer to focus on high-level tasks rather than low-level details of managing concurrency.\n",
    "\n",
    "The \"threading\" module is used to handle threads in Python. It provides a simple and easy-to-use interface for creating and managing threads.\n",
    "The module allows you to create new threads, start and stop them, and coordinate their execution with other threads in the program."
   ]
  },
  {
   "cell_type": "code",
   "execution_count": null,
   "id": "f7aee3ee-992e-4309-b538-c9f61e6a9faf",
   "metadata": {},
   "outputs": [],
   "source": [
    "Q2. why threading module used? write the use of the following functions."
   ]
  },
  {
   "cell_type": "code",
   "execution_count": null,
   "id": "198e8686-c082-40a4-92e2-ac6f46ccab51",
   "metadata": {},
   "outputs": [],
   "source": [
    " The threading module in Python is used for creating and managing threads in a program. A thread is a lightweight subprocess that can run concurrently with other threads within the same process, allowing for efficient parallelism in programs that require it. Here are some of the functions provided by the threading module:\n",
    "\n",
    "Thread(target, args): This function creates a new thread and specifies the target function to be run in that thread. The args parameter is an optional tuple of arguments to be passed to the target function.\n",
    "\n",
    "start(): This function starts the execution of a thread created using the Thread function.\n",
    "\n",
    "join([timeout]): This function waits for a thread to complete its execution. The optional timeout parameter specifies the maximum time to wait for the thread to complete.\n",
    "\n",
    "current_thread(): This function returns a reference to the current thread object.\n",
    "\n",
    "enumerate(): This function returns a list of all currently active thread objects.\n",
    "\n",
    "Lock(): This function creates a new lock object, which can be used to synchronize access to shared resources among multiple threads.\n",
    "\n",
    "Event(): This function creates a new event object, which can be used to signal between threads.\n",
    "\n",
    "These functions, along with others provided by the threading module, allow developers to create multithreaded programs that can take advantage of modern multi-core processors to perform complex tasks more efficiently."
   ]
  },
  {
   "cell_type": "raw",
   "id": "0b63d77e-870b-411f-a61f-b708bf330b1a",
   "metadata": {
    "tags": []
   },
   "source": [
    "1.activeCount()"
   ]
  },
  {
   "cell_type": "markdown",
   "id": "aa6737be-a674-4071-9e12-c01c0b4a8093",
   "metadata": {},
   "source": [
    "activeCount is not a standard Python function, but if you are referring to the active_count() method of the threading module in Python,\n",
    "it returns the number of Thread objects that are in the \"running\" state."
   ]
  },
  {
   "cell_type": "code",
   "execution_count": null,
   "id": "02390c61-af7e-4a0f-add7-2e4458d55ea0",
   "metadata": {},
   "outputs": [],
   "source": [
    " currentThread()\n",
    "    "
   ]
  },
  {
   "cell_type": "code",
   "execution_count": null,
   "id": "71cb2e58-c7cd-4e28-86ea-e3de73f91e60",
   "metadata": {},
   "outputs": [],
   "source": [
    "currentThread is a method of the threading module in Python.\n",
    "It returns a Thread object representing the current thread of execution."
   ]
  },
  {
   "cell_type": "code",
   "execution_count": null,
   "id": "a376f2f5-2d2b-4071-85ca-cbfdc6781628",
   "metadata": {},
   "outputs": [],
   "source": [
    " enumerate()"
   ]
  },
  {
   "cell_type": "code",
   "execution_count": null,
   "id": "002a9074-388d-4c71-afad-5529074755bb",
   "metadata": {},
   "outputs": [],
   "source": [
    "enumerate() is a built-in function in Python that can be used to iterate over a sequence (e.g. a list, tuple, or string)\n",
    "and keep track of the index of the current item."
   ]
  },
  {
   "cell_type": "code",
   "execution_count": null,
   "id": "4811f390-758c-4f4b-a4ac-bbb31a74737f",
   "metadata": {},
   "outputs": [],
   "source": [
    "Q3\n",
    "1.run()"
   ]
  },
  {
   "cell_type": "code",
   "execution_count": null,
   "id": "e7b67730-b569-416c-9f99-e651dffb2888",
   "metadata": {},
   "outputs": [],
   "source": [
    "run() is a method of the Thread class in Python's threading module. \n",
    "It is the entry point for the thread's activity and defines the thread's behavior.\n",
    "When a Thread object is created, you can specify the target function that should be run in a separate thread by passing it as a parameter to the Thread constructor.\n",
    "The run() method will be called automatically when the thread is started using the start() method."
   ]
  },
  {
   "cell_type": "code",
   "execution_count": null,
   "id": "2ceef208-6f90-4c84-b885-5249992d3065",
   "metadata": {},
   "outputs": [],
   "source": [
    "2.start()"
   ]
  },
  {
   "cell_type": "code",
   "execution_count": null,
   "id": "cb54c113-d2eb-4b60-8a8d-7d6a379ed856",
   "metadata": {},
   "outputs": [],
   "source": [
    "start() is a method of the Thread class in Python's threading module.\n",
    "It starts a new thread by calling the run() method of the Thread object in a separate thread of execution.\n",
    "\n"
   ]
  },
  {
   "cell_type": "code",
   "execution_count": null,
   "id": "50c9e51a-94e6-4781-8c02-b4762e22b6af",
   "metadata": {},
   "outputs": [],
   "source": [
    "3. isAlive()"
   ]
  },
  {
   "cell_type": "code",
   "execution_count": null,
   "id": "bb6596ef-6af8-4777-874d-dfe8ba31cf05",
   "metadata": {},
   "outputs": [],
   "source": [
    "isAlive() is a method of the Thread class in Python's threading module.\n",
    "It returns a boolean value indicating whether the thread is currently running."
   ]
  },
  {
   "cell_type": "code",
   "execution_count": null,
   "id": "9f7ad02a-1319-4c07-9e08-424cab3542ed",
   "metadata": {},
   "outputs": [],
   "source": [
    "Q4.write a python program to create two threads. Thread one must print the list of squares and thread \n",
    "two must print the list of cubes."
   ]
  },
  {
   "cell_type": "code",
   "execution_count": null,
   "id": "c9e24169-c566-4897-99c9-2d946ec62d40",
   "metadata": {},
   "outputs": [],
   "source": [
    "import threading\n",
    "\n",
    "def compute_squares():\n",
    "    for i in range(1, 11):\n",
    "        print(f\"{i} squared is {i**2}\")\n",
    "\n",
    "def compute_cubes():\n",
    "    for i in range(1, 11):\n",
    "        print(f\"{i} cubed is {i**3}\")\n",
    "\n",
    "t1 = threading.Thread(target=compute_squares)\n",
    "t2 = threading.Thread(target=compute_cubes)\n",
    "\n",
    "t1.start()\n",
    "t2.start()\n",
    "\n",
    "t1.join()\n",
    "t2.join()\n"
   ]
  },
  {
   "cell_type": "code",
   "execution_count": null,
   "id": "3df6771e-5db3-4d3b-a209-c7be85d3ca92",
   "metadata": {},
   "outputs": [],
   "source": [
    "Q5. State advantages and disadvantages of multithreading."
   ]
  },
  {
   "cell_type": "code",
   "execution_count": null,
   "id": "afb5aee3-18e2-4b83-8eb2-ab6e9505e57a",
   "metadata": {},
   "outputs": [],
   "source": [
    "Multithreading has several advantages and disadvantages, which are listed below:\n",
    "\n",
    "Advantages:\n",
    "\n",
    "Improved performance: Multithreading can improve the performance of a program by allowing it to perform multiple tasks concurrently. This can lead to faster execution times and better resource utilization.\n",
    "\n",
    "Responsiveness: Multithreading can make a program more responsive by allowing it to perform multiple tasks in the background while still responding to user input or other events.\n",
    "\n",
    "Modularity: Multithreading can make a program more modular by allowing different parts of the program to run independently in separate threads. This can make the program easier to develop and maintain.\n",
    "\n",
    "Resource sharing: Multithreading can allow multiple threads to share the same resources, such as memory, files, or network connections. This can lead to more efficient use of resources and lower overhead.\n",
    "\n",
    "Disadvantages:\n",
    "\n",
    "          Complexity: Multithreaded programs can be more complex to develop and debug than single-threaded programs. Multithreading can introduce issues such as race conditions, deadlocks, and synchronization problems, which can be difficult to diagnose and fix.\n",
    "\n",
    "Overhead: Multithreading can introduce overhead due to the need to create and manage multiple threads. This overhead can reduce the performance benefits of multithreading in some cases.\n",
    "\n",
    "Resource contention: Multithreading can lead to resource contention if multiple threads try to access the same resource simultaneously. This can lead to performance issues and synchronization problems.\n",
    "\n",
    "Difficulty in parallelization: Not all programs can be easily parallelized using multithreading. Some programs may have dependencies or data access patterns that make it difficult to divide the work into parallel threads. In such cases, multithreading may not provide significant performance benefits."
   ]
  },
  {
   "cell_type": "code",
   "execution_count": null,
   "id": "079a1a6e-35b5-491a-896a-6d0ac92df386",
   "metadata": {},
   "outputs": [],
   "source": [
    "Q6. Explain deadlocks and race conditions."
   ]
  }
 ],
 "metadata": {
  "kernelspec": {
   "display_name": "Python 3 (ipykernel)",
   "language": "python",
   "name": "python3"
  },
  "language_info": {
   "codemirror_mode": {
    "name": "ipython",
    "version": 3
   },
   "file_extension": ".py",
   "mimetype": "text/x-python",
   "name": "python",
   "nbconvert_exporter": "python",
   "pygments_lexer": "ipython3",
   "version": "3.10.8"
  }
 },
 "nbformat": 4,
 "nbformat_minor": 5
}
